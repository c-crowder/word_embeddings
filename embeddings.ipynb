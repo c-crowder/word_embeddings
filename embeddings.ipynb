{
 "cells": [
  {
   "cell_type": "code",
   "execution_count": 1,
   "id": "d0bca56d-827e-4273-91eb-9d5c1813f443",
   "metadata": {},
   "outputs": [],
   "source": [
    "import pandas as pd\n",
    "import matplotlib.pyplot as plt\n",
    "import seaborn as sns\n",
    "\n",
    "import lightning as L\n",
    "\n",
    "import torch\n",
    "import torch.nn as nn\n",
    "\n",
    "from torch.optim import Adam\n",
    "from torch.distributions.uniform import Uniform\n",
    "from torch.utils.data import TensorDataset, DataLoader\n",
    "\n"
   ]
  },
  {
   "cell_type": "code",
   "execution_count": 2,
   "id": "e39cf624-f075-487f-b158-5bd314e6f329",
   "metadata": {},
   "outputs": [],
   "source": [
    "inputs = torch.tensor([[1., 0., 0., 0., 0., 0.], # I\n",
    "                       [0., 1., 0., 0., 0., 0.], # You\n",
    "                       [0., 0., 1., 0., 0., 0.], # Like\n",
    "                       [0., 0., 0., 1., 0., 0.], # Hate\n",
    "                       [0., 0., 0., 0., 1., 0.], # Pizza\n",
    "                       [0., 0., 0., 0., 0., 1.]]) # Cheese\n",
    "\n",
    "labels = torch.tensor([[0., 0., 1., 0., 0., 0.], # \"I\" is followed by \"Like\"\n",
    "                       [0., 0., 0., 1., 0., 0.], # \"You\" is followed by \"Hate\"\n",
    "                       [0., 0., 0., 0., 1., 0.], # \"Like\" is followed by \"Pizza\"\n",
    "                       [0., 0., 0., 0., 0., 1.], # \"Hate\" is followed by \"Cheese\"\n",
    "                       [0., 0., 0., 0., 1., 0.], # \"Pizza\" isn't followed by anything\n",
    "                       [0., 0., 0., 0., 0., 1.]]) # \"Cheese\" isn't followed by anything"
   ]
  },
  {
   "cell_type": "code",
   "execution_count": 3,
   "id": "92c89932-04e7-4af2-97f2-2c85d3680cab",
   "metadata": {},
   "outputs": [],
   "source": [
    "dataset = TensorDataset(inputs, labels)\n",
    "dataloader = DataLoader(dataset)"
   ]
  },
  {
   "cell_type": "code",
   "execution_count": 4,
   "id": "d3779128-f2a0-420a-b075-7e3713c85e45",
   "metadata": {},
   "outputs": [],
   "source": [
    "class WordEmbedScratch(L.LightningModule):\n",
    "\n",
    "    def __init__(self):\n",
    "        super().__init__()\n",
    "\n",
    "        L.seed_everything(seed=42)\n",
    "\n",
    "        min, max = -.5, .5\n",
    "\n",
    "        # Inputs\n",
    "        self.input1_w1 = nn.Parameter(Uniform(min, max).sample())\n",
    "        self.input1_w2 = nn.Parameter(Uniform(min, max).sample())\n",
    "\n",
    "        self.input2_w1 = nn.Parameter(Uniform(min, max).sample())\n",
    "        self.input2_w2 = nn.Parameter(Uniform(min, max).sample())\n",
    "\n",
    "        self.input3_w1 = nn.Parameter(Uniform(min, max).sample())\n",
    "        self.input3_w2 = nn.Parameter(Uniform(min, max).sample())\n",
    "\n",
    "        self.input4_w1 = nn.Parameter(Uniform(min, max).sample())\n",
    "        self.input4_w2 = nn.Parameter(Uniform(min, max).sample())\n",
    "\n",
    "        self.input5_w1 = nn.Parameter(Uniform(min, max).sample())\n",
    "        self.input5_w2 = nn.Parameter(Uniform(min, max).sample())\n",
    "\n",
    "        self.input6_w1 = nn.Parameter(Uniform(min, max).sample())\n",
    "        self.input6_w2 = nn.Parameter(Uniform(min, max).sample())\n",
    "\n",
    "        # Outputs\n",
    "        self.output1_w1 = nn.Parameter(Uniform(min, max).sample())\n",
    "        self.output1_w2 = nn.Parameter(Uniform(min, max).sample())\n",
    "\n",
    "        self.output2_w1 = nn.Parameter(Uniform(min, max).sample())\n",
    "        self.output2_w2 = nn.Parameter(Uniform(min, max).sample())\n",
    "\n",
    "        self.output3_w1 = nn.Parameter(Uniform(min, max).sample())\n",
    "        self.output3_w2 = nn.Parameter(Uniform(min, max).sample())\n",
    "\n",
    "        self.output4_w1 = nn.Parameter(Uniform(min, max).sample())\n",
    "        self.output4_w2 = nn.Parameter(Uniform(min, max).sample())\n",
    "\n",
    "        self.output5_w1 = nn.Parameter(Uniform(min, max).sample())\n",
    "        self.output5_w2 = nn.Parameter(Uniform(min, max).sample())\n",
    "\n",
    "        self.output6_w1 = nn.Parameter(Uniform(min, max).sample())\n",
    "        self.output6_w2 = nn.Parameter(Uniform(min, max).sample())\n",
    "\n",
    "        # Loss\n",
    "        self.loss = nn.CrossEntropyLoss()\n",
    "\n",
    "\n",
    "    def forward(self, input):\n",
    "        input = input[0]\n",
    "\n",
    "        # Inputs\n",
    "        top_inputs = ((input[0] * self.input1_w1) +\n",
    "                      (input[1] * self.input2_w1) +\n",
    "                      (input[2] * self.input3_w1) +\n",
    "                      (input[3] * self.input4_w1) +\n",
    "                      (input[4] * self.input5_w1) +\n",
    "                      (input[5] * self.input6_w1))\n",
    "\n",
    "        bottom_inputs = ((input[0] * self.input1_w2) +\n",
    "                         (input[1] * self.input2_w2) +\n",
    "                         (input[2] * self.input3_w2) +\n",
    "                         (input[3] * self.input4_w2) +\n",
    "                         (input[4] * self.input5_w2) +\n",
    "                         (input[5] * self.input6_w2))\n",
    "\n",
    "        # Outputs\n",
    "        output1 = ((top_inputs * self.output1_w1) +\n",
    "                   (bottom_inputs * self.output1_w2))\n",
    "        output2 = ((top_inputs * self.output2_w1) +\n",
    "                   (bottom_inputs * self.output2_w2))\n",
    "        output3 = ((top_inputs * self.output3_w1) +\n",
    "                   (bottom_inputs * self.output3_w2))\n",
    "        output4 = ((top_inputs * self.output4_w1) +\n",
    "                   (bottom_inputs * self.output4_w2))\n",
    "        output5 = ((top_inputs * self.output5_w1) +\n",
    "                   (bottom_inputs * self.output5_w2))\n",
    "        output6 = ((top_inputs * self.output6_w1) +\n",
    "                   (bottom_inputs * self.output6_w2))\n",
    "\n",
    "        outputs_combined = torch.stack([output1, output2, output3, output4, output5, output6])\n",
    "\n",
    "        return outputs_combined\n",
    "\n",
    "\n",
    "    def configure_optimizers(self):\n",
    "        return Adam(self.parameters(), lr=0.1)\n",
    "\n",
    "\n",
    "    def training_step(self, batch, batch_idx):\n",
    "        input_i, label_i = batch\n",
    "        output_i = self.forward(input_i)\n",
    "        loss = self.loss(output_i, label_i[0])\n",
    "\n",
    "        return loss\n",
    "\n",
    "\n"
   ]
  },
  {
   "cell_type": "code",
   "execution_count": 5,
   "id": "bd75f8cd-5b71-40cd-b61b-d33dfd24f1ec",
   "metadata": {},
   "outputs": [
    {
     "name": "stderr",
     "output_type": "stream",
     "text": [
      "Seed set to 42\n"
     ]
    },
    {
     "name": "stdout",
     "output_type": "stream",
     "text": [
      "Before optimization, the parameters are...\n",
      "input1_w1 tensor(0.3800)\n",
      "input1_w2 tensor(0.4200)\n",
      "input2_w1 tensor(-0.1200)\n",
      "input2_w2 tensor(0.4600)\n",
      "input3_w1 tensor(-0.1100)\n",
      "input3_w2 tensor(0.1000)\n",
      "input4_w1 tensor(-0.2400)\n",
      "input4_w2 tensor(0.2900)\n",
      "input5_w1 tensor(0.4400)\n",
      "input5_w2 tensor(-0.3700)\n",
      "input6_w1 tensor(0.4300)\n",
      "input6_w2 tensor(0.0900)\n",
      "output1_w1 tensor(0.3700)\n",
      "output1_w2 tensor(0.0700)\n",
      "output2_w1 tensor(0.2400)\n",
      "output2_w2 tensor(-0.0700)\n",
      "output3_w1 tensor(0.3900)\n",
      "output3_w2 tensor(0.0700)\n",
      "output4_w1 tensor(-0.2300)\n",
      "output4_w2 tensor(0.1300)\n",
      "output5_w1 tensor(-0.2300)\n",
      "output5_w2 tensor(-0.0600)\n",
      "output6_w1 tensor(-0.2000)\n",
      "output6_w2 tensor(0.3300)\n"
     ]
    }
   ],
   "source": [
    "model_scratch = WordEmbedScratch()\n",
    "\n",
    "print(\"Before optimization, the parameters are...\")\n",
    "for name, param in model_scratch.named_parameters():\n",
    "    print(name, torch.round(param.data, decimals=2))"
   ]
  },
  {
   "cell_type": "code",
   "execution_count": 6,
   "id": "e5ed02b0-246f-42de-848f-f60d0c1ddecb",
   "metadata": {},
   "outputs": [
    {
     "data": {
      "text/html": [
       "<div>\n",
       "<style scoped>\n",
       "    .dataframe tbody tr th:only-of-type {\n",
       "        vertical-align: middle;\n",
       "    }\n",
       "\n",
       "    .dataframe tbody tr th {\n",
       "        vertical-align: top;\n",
       "    }\n",
       "\n",
       "    .dataframe thead th {\n",
       "        text-align: right;\n",
       "    }\n",
       "</style>\n",
       "<table border=\"1\" class=\"dataframe\">\n",
       "  <thead>\n",
       "    <tr style=\"text-align: right;\">\n",
       "      <th></th>\n",
       "      <th>w1</th>\n",
       "      <th>w2</th>\n",
       "      <th>token</th>\n",
       "      <th>input</th>\n",
       "    </tr>\n",
       "  </thead>\n",
       "  <tbody>\n",
       "    <tr>\n",
       "      <th>0</th>\n",
       "      <td>0.382269</td>\n",
       "      <td>0.415004</td>\n",
       "      <td>I</td>\n",
       "      <td>input1</td>\n",
       "    </tr>\n",
       "    <tr>\n",
       "      <th>1</th>\n",
       "      <td>-0.117136</td>\n",
       "      <td>0.459306</td>\n",
       "      <td>You</td>\n",
       "      <td>input2</td>\n",
       "    </tr>\n",
       "    <tr>\n",
       "      <th>2</th>\n",
       "      <td>-0.109552</td>\n",
       "      <td>0.100895</td>\n",
       "      <td>Like</td>\n",
       "      <td>input3</td>\n",
       "    </tr>\n",
       "    <tr>\n",
       "      <th>3</th>\n",
       "      <td>-0.243428</td>\n",
       "      <td>0.293641</td>\n",
       "      <td>Hate</td>\n",
       "      <td>input4</td>\n",
       "    </tr>\n",
       "    <tr>\n",
       "      <th>4</th>\n",
       "      <td>0.440771</td>\n",
       "      <td>-0.366814</td>\n",
       "      <td>Pizza</td>\n",
       "      <td>input5</td>\n",
       "    </tr>\n",
       "    <tr>\n",
       "      <th>5</th>\n",
       "      <td>0.434598</td>\n",
       "      <td>0.093580</td>\n",
       "      <td>Cheese</td>\n",
       "      <td>input6</td>\n",
       "    </tr>\n",
       "  </tbody>\n",
       "</table>\n",
       "</div>"
      ],
      "text/plain": [
       "         w1        w2   token   input\n",
       "0  0.382269  0.415004       I  input1\n",
       "1 -0.117136  0.459306     You  input2\n",
       "2 -0.109552  0.100895    Like  input3\n",
       "3 -0.243428  0.293641    Hate  input4\n",
       "4  0.440771 -0.366814   Pizza  input5\n",
       "5  0.434598  0.093580  Cheese  input6"
      ]
     },
     "execution_count": 6,
     "metadata": {},
     "output_type": "execute_result"
    }
   ],
   "source": [
    "data = {\n",
    "    'w1': [model_scratch.input1_w1.item(),\n",
    "           model_scratch.input2_w1.item(),\n",
    "           model_scratch.input3_w1.item(),\n",
    "           model_scratch.input4_w1.item(),\n",
    "           model_scratch.input5_w1.item(),\n",
    "           model_scratch.input6_w1.item()],\n",
    "    'w2': [model_scratch.input1_w2.item(),\n",
    "           model_scratch.input2_w2.item(),\n",
    "           model_scratch.input3_w2.item(),\n",
    "           model_scratch.input4_w2.item(),\n",
    "           model_scratch.input5_w2.item(),\n",
    "           model_scratch.input6_w2.item()],\n",
    "    'token': ['I', 'You', 'Like', 'Hate', 'Pizza', 'Cheese'],\n",
    "    'input': ['input1', 'input2', 'input3', 'input4', 'input5', 'input6']\n",
    "}\n",
    "df = pd.DataFrame(data)\n",
    "df"
   ]
  },
  {
   "cell_type": "code",
   "execution_count": 7,
   "id": "a5dd3fa6-34fe-4ff5-b618-19dd479c4b46",
   "metadata": {},
   "outputs": [
    {
     "data": {
      "image/png": "[encoded data removed]",
      "text/plain": [
       "<Figure size 640x480 with 1 Axes>"
      ]
     },
     "metadata": {},
     "output_type": "display_data"
    }
   ],
   "source": [
    "sns.scatterplot(data=df, x='w1', y='w2')\n",
    "\n",
    "for i in range(0, 6):\n",
    "    plt.text(df.w1[i]+.01, df.w2[i], df.token[i],\n",
    "             horizontalalignment='left', \n",
    "             size='medium',\n",
    "             color='black',\n",
    "             weight='semibold')\n",
    "plt.show()"
   ]
  },
  {
   "cell_type": "code",
   "execution_count": 9,
   "id": "0c218bc7-67a3-4803-a7b5-65ee432d0555",
   "metadata": {},
   "outputs": [
    {
     "name": "stderr",
     "output_type": "stream",
     "text": [
      "GPU available: False, used: False\n",
      "TPU available: False, using: 0 TPU cores\n",
      "IPU available: False, using: 0 IPUs\n",
      "HPU available: False, using: 0 HPUs\n",
      "C:\\Users\\jcrow\\OneDrive\\Desktop\\Projects\\Word Embeddings\\word_embeddings\\.venv\\lib\\site-packages\\lightning\\pytorch\\trainer\\connectors\\logger_connector\\logger_connector.py:67: Starting from v1.9.0, `tensorboardX` has been removed as a dependency of the `lightning.pytorch` package, due to potential conflicts with other packages in the ML ecosystem. For this reason, `logger=True` will use `CSVLogger` as the default logger, unless the `tensorboard` or `tensorboardX` packages are found. Please `pip install lightning[extra]` or one of them to enable TensorBoard support by default\n",
      "\n",
      "  | Name         | Type             | Params\n",
      "--------------------------------------------------\n",
      "0 | loss         | CrossEntropyLoss | 0     \n",
      "  | other params | n/a              | 24    \n",
      "--------------------------------------------------\n",
      "24        Trainable params\n",
      "0         Non-trainable params\n",
      "24        Total params\n",
      "0.000     Total estimated model params size (MB)\n",
      "C:\\Users\\jcrow\\OneDrive\\Desktop\\Projects\\Word Embeddings\\word_embeddings\\.venv\\lib\\site-packages\\lightning\\pytorch\\trainer\\connectors\\data_connector.py:441: The 'train_dataloader' does not have many workers which may be a bottleneck. Consider increasing the value of the `num_workers` argument` to `num_workers=11` in the `DataLoader` to improve performance.\n",
      "C:\\Users\\jcrow\\OneDrive\\Desktop\\Projects\\Word Embeddings\\word_embeddings\\.venv\\lib\\site-packages\\lightning\\pytorch\\loops\\fit_loop.py:293: The number of training batches (6) is smaller than the logging interval Trainer(log_every_n_steps=50). Set a lower value for log_every_n_steps if you want to see logs for the training epoch.\n"
     ]
    },
    {
     "data": {
      "application/vnd.jupyter.widget-view+json": {
       "model_id": "0eeff650989a4bb29bfebdbf8ff30ebc",
       "version_major": 2,
       "version_minor": 0
      },
      "text/plain": [
       "Training: |                                                                                                   …"
      ]
     },
     "metadata": {},
     "output_type": "display_data"
    },
    {
     "name": "stderr",
     "output_type": "stream",
     "text": [
      "`Trainer.fit` stopped: `max_epochs=100` reached.\n"
     ]
    }
   ],
   "source": [
    "trainer = L.Trainer(max_epochs=100)\n",
    "trainer.fit(model_scratch, train_dataloaders=dataloader)"
   ]
  },
  {
   "cell_type": "code",
   "execution_count": 10,
   "id": "1263d1a3-69c8-475d-a8c0-35d32cfa9806",
   "metadata": {},
   "outputs": [
    {
     "name": "stdout",
     "output_type": "stream",
     "text": [
      "After optimization, the parameters are...\n",
      "input1_w1 tensor(3.0200)\n",
      "input1_w2 tensor(0.6500)\n",
      "input2_w1 tensor(-3.5700)\n",
      "input2_w2 tensor(0.7000)\n",
      "input3_w1 tensor(-1.1600)\n",
      "input3_w2 tensor(-2.5300)\n",
      "input4_w1 tensor(0.1500)\n",
      "input4_w2 tensor(3.6900)\n",
      "input5_w1 tensor(-0.9900)\n",
      "input5_w2 tensor(-2.6200)\n",
      "input6_w1 tensor(0.1100)\n",
      "input6_w2 tensor(3.5000)\n",
      "output1_w1 tensor(0.3900)\n",
      "output1_w2 tensor(-0.6300)\n",
      "output2_w1 tensor(0.3900)\n",
      "output2_w2 tensor(-0.6200)\n",
      "output3_w1 tensor(3.4300)\n",
      "output3_w2 tensor(-0.2200)\n",
      "output4_w1 tensor(-2.6900)\n",
      "output4_w2 tensor(0.2100)\n",
      "output5_w1 tensor(-1.1100)\n",
      "output5_w2 tensor(-3.8300)\n",
      "output6_w1 tensor(-0.0100)\n",
      "output6_w2 tensor(2.4900)\n"
     ]
    }
   ],
   "source": [
    "print('After optimization, the parameters are...')\n",
    "for name, param in model_scratch.named_parameters():\n",
    "    print(name, torch.round(param.data, decimals=2))"
   ]
  },
  {
   "cell_type": "code",
   "execution_count": 11,
   "id": "d62379d5-7a2b-4f47-b62b-b97816ee5539",
   "metadata": {},
   "outputs": [
    {
     "data": {
      "text/html": [
       "<div>\n",
       "<style scoped>\n",
       "    .dataframe tbody tr th:only-of-type {\n",
       "        vertical-align: middle;\n",
       "    }\n",
       "\n",
       "    .dataframe tbody tr th {\n",
       "        vertical-align: top;\n",
       "    }\n",
       "\n",
       "    .dataframe thead th {\n",
       "        text-align: right;\n",
       "    }\n",
       "</style>\n",
       "<table border=\"1\" class=\"dataframe\">\n",
       "  <thead>\n",
       "    <tr style=\"text-align: right;\">\n",
       "      <th></th>\n",
       "      <th>w1</th>\n",
       "      <th>w2</th>\n",
       "      <th>token</th>\n",
       "      <th>input</th>\n",
       "    </tr>\n",
       "  </thead>\n",
       "  <tbody>\n",
       "    <tr>\n",
       "      <th>0</th>\n",
       "      <td>3.015088</td>\n",
       "      <td>0.645647</td>\n",
       "      <td>I</td>\n",
       "      <td>input1</td>\n",
       "    </tr>\n",
       "    <tr>\n",
       "      <th>1</th>\n",
       "      <td>-3.568773</td>\n",
       "      <td>0.702606</td>\n",
       "      <td>You</td>\n",
       "      <td>input2</td>\n",
       "    </tr>\n",
       "    <tr>\n",
       "      <th>2</th>\n",
       "      <td>-1.155670</td>\n",
       "      <td>-2.534612</td>\n",
       "      <td>Like</td>\n",
       "      <td>input3</td>\n",
       "    </tr>\n",
       "    <tr>\n",
       "      <th>3</th>\n",
       "      <td>0.147331</td>\n",
       "      <td>3.694168</td>\n",
       "      <td>Hate</td>\n",
       "      <td>input4</td>\n",
       "    </tr>\n",
       "    <tr>\n",
       "      <th>4</th>\n",
       "      <td>-0.991834</td>\n",
       "      <td>-2.619006</td>\n",
       "      <td>Pizza</td>\n",
       "      <td>input5</td>\n",
       "    </tr>\n",
       "    <tr>\n",
       "      <th>5</th>\n",
       "      <td>0.108220</td>\n",
       "      <td>3.497420</td>\n",
       "      <td>Cheese</td>\n",
       "      <td>input6</td>\n",
       "    </tr>\n",
       "  </tbody>\n",
       "</table>\n",
       "</div>"
      ],
      "text/plain": [
       "         w1        w2   token   input\n",
       "0  3.015088  0.645647       I  input1\n",
       "1 -3.568773  0.702606     You  input2\n",
       "2 -1.155670 -2.534612    Like  input3\n",
       "3  0.147331  3.694168    Hate  input4\n",
       "4 -0.991834 -2.619006   Pizza  input5\n",
       "5  0.108220  3.497420  Cheese  input6"
      ]
     },
     "execution_count": 11,
     "metadata": {},
     "output_type": "execute_result"
    }
   ],
   "source": [
    "data = {\n",
    "    'w1': [model_scratch.input1_w1.item(),\n",
    "           model_scratch.input2_w1.item(),\n",
    "           model_scratch.input3_w1.item(),\n",
    "           model_scratch.input4_w1.item(),\n",
    "           model_scratch.input5_w1.item(),\n",
    "           model_scratch.input6_w1.item()],\n",
    "    'w2': [model_scratch.input1_w2.item(),\n",
    "           model_scratch.input2_w2.item(),\n",
    "           model_scratch.input3_w2.item(),\n",
    "           model_scratch.input4_w2.item(),\n",
    "           model_scratch.input5_w2.item(),\n",
    "           model_scratch.input6_w2.item()],\n",
    "    'token': ['I', 'You', 'Like', 'Hate', 'Pizza', 'Cheese'],\n",
    "    'input': ['input1', 'input2', 'input3', 'input4', 'input5', 'input6']\n",
    "}\n",
    "df = pd.DataFrame(data)\n",
    "df"
   ]
  },
  {
   "cell_type": "code",
   "execution_count": 12,
   "id": "6d9a4d01-c108-49dc-bba3-2aba957f564b",
   "metadata": {},
   "outputs": [
    {
     "data": {
      "image/png": "[encoded data removed]",
      "text/plain": [
       "<Figure size 640x480 with 1 Axes>"
      ]
     },
     "metadata": {},
     "output_type": "display_data"
    }
   ],
   "source": [
    "sns.scatterplot(data=df, x='w1', y='w2')\n",
    "\n",
    "for i in range(0, 6):\n",
    "    plt.text(df.w1[i]+.01, df.w2[i], df.token[i],\n",
    "             horizontalalignment='left', \n",
    "             size='medium',\n",
    "             color='black',\n",
    "             weight='semibold')\n",
    "plt.show()"
   ]
  },
  {
   "cell_type": "code",
   "execution_count": 13,
   "id": "67164477-1516-46de-a432-8b32d1fbc524",
   "metadata": {},
   "outputs": [
    {
     "name": "stdout",
     "output_type": "stream",
     "text": [
      "tensor([0., 0., 1., 0., 0., 0.], grad_fn=<RoundBackward1>)\n",
      "tensor([0., 0., 0., 1., 0., 0.], grad_fn=<RoundBackward1>)\n",
      "tensor([0., 0., 0., 0., 1., 0.], grad_fn=<RoundBackward1>)\n",
      "tensor([0., 0., 0., 0., 0., 1.], grad_fn=<RoundBackward1>)\n",
      "tensor([0., 0., 0., 0., 1., 0.], grad_fn=<RoundBackward1>)\n",
      "tensor([0., 0., 0., 0., 0., 1.], grad_fn=<RoundBackward1>)\n"
     ]
    }
   ],
   "source": [
    "softmax = nn.Softmax(dim=0)\n",
    "\n",
    "print(torch.round(softmax(model_scratch(torch.tensor([[1., 0., 0., 0., 0., 0.]]))),\n",
    "                 decimals=2))\n",
    "\n",
    "print(torch.round(softmax(model_scratch(torch.tensor([[0., 1., 0., 0., 0., 0.]]))),\n",
    "                 decimals=2))\n",
    "\n",
    "print(torch.round(softmax(model_scratch(torch.tensor([[0., 0., 1., 0., 0., 0.]]))),\n",
    "                 decimals=2))\n",
    "\n",
    "print(torch.round(softmax(model_scratch(torch.tensor([[0., 0., 0., 1., 0., 0.]]))),\n",
    "                 decimals=2))\n",
    "\n",
    "print(torch.round(softmax(model_scratch(torch.tensor([[0., 0., 0., 0., 1., 0.]]))),\n",
    "                 decimals=2))\n",
    "\n",
    "print(torch.round(softmax(model_scratch(torch.tensor([[0., 0., 0., 0., 0., 1.]]))),\n",
    "                 decimals=2))"
   ]
  },
  {
   "cell_type": "code",
   "execution_count": 14,
   "id": "118a304c-c591-41b3-9775-43c755254355",
   "metadata": {},
   "outputs": [],
   "source": [
    "class WordEmbedLinear(L.LightningModule):\n",
    "\n",
    "    def __init__(self):\n",
    "        super().__init__()\n",
    "\n",
    "        L.seed_everything(seed=42)\n",
    "\n",
    "        self.inputs = nn.Linear(in_features=6, out_features=2, bias=False)\n",
    "\n",
    "        self.outputs = nn.Linear(in_features=2, out_features=6, bias=False)\n",
    "\n",
    "        self.loss = nn.CrossEntropyLoss()\n",
    "\n",
    "    def forward(self, input):\n",
    "        hidden = self.inputs(input)\n",
    "\n",
    "        output = self.outputs(hidden)\n",
    "\n",
    "        return output\n",
    "\n",
    "    \n",
    "    def configure_optimizers(self):\n",
    "        return Adam(self.parameters(), lr=.1)\n",
    "\n",
    "    \n",
    "    def training_step(self, batch, batch_idx):\n",
    "        input_i, label_i = batch\n",
    "        output_i = self.forward(input_i)\n",
    "        loss = self.loss(output_i, label_i)\n",
    "\n",
    "        return loss"
   ]
  },
  {
   "cell_type": "code",
   "execution_count": 15,
   "id": "e0f35702-51ee-4c4e-be44-a1941fe715ac",
   "metadata": {},
   "outputs": [
    {
     "name": "stderr",
     "output_type": "stream",
     "text": [
      "Seed set to 42\n"
     ]
    },
    {
     "name": "stdout",
     "output_type": "stream",
     "text": [
      "Before optimization, the parameters are...\n",
      "inputs.weight tensor([[ 0.3100,  0.3400, -0.1000,  0.3800, -0.0900,  0.0800],\n",
      "        [-0.2000,  0.2400,  0.3600, -0.3000,  0.3500,  0.0800]])\n",
      "outputs.weight tensor([[ 0.5200,  0.1000],\n",
      "        [ 0.3400, -0.1000],\n",
      "        [ 0.5500,  0.1000],\n",
      "        [-0.3300,  0.1800],\n",
      "        [-0.3300, -0.0800],\n",
      "        [-0.2900,  0.4700]])\n"
     ]
    }
   ],
   "source": [
    "model_linear = WordEmbedLinear()\n",
    "\n",
    "print(\"Before optimization, the parameters are...\")\n",
    "for name, param in model_linear.named_parameters():\n",
    "    print(name, torch.round(param.data, decimals=2))"
   ]
  },
  {
   "cell_type": "code",
   "execution_count": 17,
   "id": "551cb8c3-090a-42f0-9d73-844e81742467",
   "metadata": {},
   "outputs": [
    {
     "data": {
      "text/html": [
       "<div>\n",
       "<style scoped>\n",
       "    .dataframe tbody tr th:only-of-type {\n",
       "        vertical-align: middle;\n",
       "    }\n",
       "\n",
       "    .dataframe tbody tr th {\n",
       "        vertical-align: top;\n",
       "    }\n",
       "\n",
       "    .dataframe thead th {\n",
       "        text-align: right;\n",
       "    }\n",
       "</style>\n",
       "<table border=\"1\" class=\"dataframe\">\n",
       "  <thead>\n",
       "    <tr style=\"text-align: right;\">\n",
       "      <th></th>\n",
       "      <th>w1</th>\n",
       "      <th>w2</th>\n",
       "      <th>token</th>\n",
       "      <th>input</th>\n",
       "    </tr>\n",
       "  </thead>\n",
       "  <tbody>\n",
       "    <tr>\n",
       "      <th>0</th>\n",
       "      <td>0.312122</td>\n",
       "      <td>-0.198758</td>\n",
       "      <td>I</td>\n",
       "      <td>input1</td>\n",
       "    </tr>\n",
       "    <tr>\n",
       "      <th>1</th>\n",
       "      <td>0.338849</td>\n",
       "      <td>0.239757</td>\n",
       "      <td>You</td>\n",
       "      <td>input2</td>\n",
       "    </tr>\n",
       "    <tr>\n",
       "      <th>2</th>\n",
       "      <td>-0.095641</td>\n",
       "      <td>0.359888</td>\n",
       "      <td>Like</td>\n",
       "      <td>input3</td>\n",
       "    </tr>\n",
       "    <tr>\n",
       "      <th>3</th>\n",
       "      <td>0.375022</td>\n",
       "      <td>-0.299502</td>\n",
       "      <td>Hate</td>\n",
       "      <td>input4</td>\n",
       "    </tr>\n",
       "    <tr>\n",
       "      <th>4</th>\n",
       "      <td>-0.089449</td>\n",
       "      <td>0.354848</td>\n",
       "      <td>Pizza</td>\n",
       "      <td>input5</td>\n",
       "    </tr>\n",
       "    <tr>\n",
       "      <th>5</th>\n",
       "      <td>0.082381</td>\n",
       "      <td>0.076407</td>\n",
       "      <td>Cheese</td>\n",
       "      <td>input6</td>\n",
       "    </tr>\n",
       "  </tbody>\n",
       "</table>\n",
       "</div>"
      ],
      "text/plain": [
       "         w1        w2   token   input\n",
       "0  0.312122 -0.198758       I  input1\n",
       "1  0.338849  0.239757     You  input2\n",
       "2 -0.095641  0.359888    Like  input3\n",
       "3  0.375022 -0.299502    Hate  input4\n",
       "4 -0.089449  0.354848   Pizza  input5\n",
       "5  0.082381  0.076407  Cheese  input6"
      ]
     },
     "execution_count": 17,
     "metadata": {},
     "output_type": "execute_result"
    }
   ],
   "source": [
    "data = {\n",
    "    'w1': model_linear.inputs.weight.detach()[0].numpy(),\n",
    "    'w2': model_linear.inputs.weight.detach()[1].numpy(),\n",
    "    'token': ['I', 'You', 'Like', 'Hate', 'Pizza', 'Cheese'],\n",
    "    'input': ['input1', 'input2', 'input3', 'input4', 'input5', 'input6']\n",
    "}\n",
    "df = pd.DataFrame(data)\n",
    "df"
   ]
  },
  {
   "cell_type": "code",
   "execution_count": 18,
   "id": "3431200b-ea33-4ee4-b7b8-f7311403feaa",
   "metadata": {},
   "outputs": [
    {
     "data": {
      "image/png": "[encoded data removed]",
      "text/plain": [
       "<Figure size 640x480 with 1 Axes>"
      ]
     },
     "metadata": {},
     "output_type": "display_data"
    }
   ],
   "source": [
    "sns.scatterplot(data=df, x='w1', y='w2')\n",
    "\n",
    "for i in range(0, 6):\n",
    "    plt.text(df.w1[i]+.01, df.w2[i], df.token[i],\n",
    "             horizontalalignment='left', \n",
    "             size='medium',\n",
    "             color='black',\n",
    "             weight='semibold')\n",
    "plt.show()"
   ]
  },
  {
   "cell_type": "code",
   "execution_count": 20,
   "id": "49fe8617-5072-4416-8674-aee6e96b77c3",
   "metadata": {},
   "outputs": [
    {
     "name": "stderr",
     "output_type": "stream",
     "text": [
      "GPU available: False, used: False\n",
      "TPU available: False, using: 0 TPU cores\n",
      "IPU available: False, using: 0 IPUs\n",
      "HPU available: False, using: 0 HPUs\n",
      "\n",
      "  | Name    | Type             | Params\n",
      "---------------------------------------------\n",
      "0 | inputs  | Linear           | 12    \n",
      "1 | outputs | Linear           | 12    \n",
      "2 | loss    | CrossEntropyLoss | 0     \n",
      "---------------------------------------------\n",
      "24        Trainable params\n",
      "0         Non-trainable params\n",
      "24        Total params\n",
      "0.000     Total estimated model params size (MB)\n",
      "C:\\Users\\jcrow\\OneDrive\\Desktop\\Projects\\Word Embeddings\\word_embeddings\\.venv\\lib\\site-packages\\lightning\\pytorch\\trainer\\connectors\\data_connector.py:441: The 'train_dataloader' does not have many workers which may be a bottleneck. Consider increasing the value of the `num_workers` argument` to `num_workers=11` in the `DataLoader` to improve performance.\n",
      "C:\\Users\\jcrow\\OneDrive\\Desktop\\Projects\\Word Embeddings\\word_embeddings\\.venv\\lib\\site-packages\\lightning\\pytorch\\loops\\fit_loop.py:293: The number of training batches (6) is smaller than the logging interval Trainer(log_every_n_steps=50). Set a lower value for log_every_n_steps if you want to see logs for the training epoch.\n"
     ]
    },
    {
     "data": {
      "application/vnd.jupyter.widget-view+json": {
       "model_id": "5ad02b50a09d4578866fa6eba9d4716e",
       "version_major": 2,
       "version_minor": 0
      },
      "text/plain": [
       "Training: |                                                                                                   …"
      ]
     },
     "metadata": {},
     "output_type": "display_data"
    },
    {
     "name": "stderr",
     "output_type": "stream",
     "text": [
      "`Trainer.fit` stopped: `max_epochs=100` reached.\n"
     ]
    }
   ],
   "source": [
    "trainer = L.Trainer(max_epochs=100)\n",
    "trainer.fit(model_linear, train_dataloaders=dataloader)"
   ]
  },
  {
   "cell_type": "code",
   "execution_count": 22,
   "id": "43d25648-c713-4761-a441-ceb872f5d53a",
   "metadata": {},
   "outputs": [
    {
     "name": "stdout",
     "output_type": "stream",
     "text": [
      "After optimization, the parameters are...\n",
      "inputs.weight tensor([[ 2.2300,  2.8300, -2.4200, -0.7700, -2.3900, -0.7900],\n",
      "        [-2.1400,  1.8200, -0.0100,  3.3500, -0.0400,  3.4000]])\n",
      "outputs.weight tensor([[-0.4800, -2.4100],\n",
      "        [-0.5300, -2.5200],\n",
      "        [ 2.6100, -3.9200],\n",
      "        [ 2.9600,  0.7500],\n",
      "        [-4.6700, -1.1300],\n",
      "        [-1.0400,  2.4100]])\n"
     ]
    }
   ],
   "source": [
    "print(\"After optimization, the parameters are...\")\n",
    "for name, param in model_linear.named_parameters():\n",
    "    print(name, torch.round(param.data, decimals=2))"
   ]
  },
  {
   "cell_type": "code",
   "execution_count": 23,
   "id": "d1dbbff7-af46-4b83-aeb0-ec8fd444c1c6",
   "metadata": {},
   "outputs": [
    {
     "data": {
      "text/html": [
       "<div>\n",
       "<style scoped>\n",
       "    .dataframe tbody tr th:only-of-type {\n",
       "        vertical-align: middle;\n",
       "    }\n",
       "\n",
       "    .dataframe tbody tr th {\n",
       "        vertical-align: top;\n",
       "    }\n",
       "\n",
       "    .dataframe thead th {\n",
       "        text-align: right;\n",
       "    }\n",
       "</style>\n",
       "<table border=\"1\" class=\"dataframe\">\n",
       "  <thead>\n",
       "    <tr style=\"text-align: right;\">\n",
       "      <th></th>\n",
       "      <th>w1</th>\n",
       "      <th>w2</th>\n",
       "      <th>token</th>\n",
       "      <th>input</th>\n",
       "    </tr>\n",
       "  </thead>\n",
       "  <tbody>\n",
       "    <tr>\n",
       "      <th>0</th>\n",
       "      <td>2.226017</td>\n",
       "      <td>-2.142142</td>\n",
       "      <td>I</td>\n",
       "      <td>input1</td>\n",
       "    </tr>\n",
       "    <tr>\n",
       "      <th>1</th>\n",
       "      <td>2.834800</td>\n",
       "      <td>1.819842</td>\n",
       "      <td>You</td>\n",
       "      <td>input2</td>\n",
       "    </tr>\n",
       "    <tr>\n",
       "      <th>2</th>\n",
       "      <td>-2.416843</td>\n",
       "      <td>-0.007501</td>\n",
       "      <td>Like</td>\n",
       "      <td>input3</td>\n",
       "    </tr>\n",
       "    <tr>\n",
       "      <th>3</th>\n",
       "      <td>-0.774124</td>\n",
       "      <td>3.347515</td>\n",
       "      <td>Hate</td>\n",
       "      <td>input4</td>\n",
       "    </tr>\n",
       "    <tr>\n",
       "      <th>4</th>\n",
       "      <td>-2.387467</td>\n",
       "      <td>-0.036846</td>\n",
       "      <td>Pizza</td>\n",
       "      <td>input5</td>\n",
       "    </tr>\n",
       "    <tr>\n",
       "      <th>5</th>\n",
       "      <td>-0.790265</td>\n",
       "      <td>3.398816</td>\n",
       "      <td>Cheese</td>\n",
       "      <td>input6</td>\n",
       "    </tr>\n",
       "  </tbody>\n",
       "</table>\n",
       "</div>"
      ],
      "text/plain": [
       "         w1        w2   token   input\n",
       "0  2.226017 -2.142142       I  input1\n",
       "1  2.834800  1.819842     You  input2\n",
       "2 -2.416843 -0.007501    Like  input3\n",
       "3 -0.774124  3.347515    Hate  input4\n",
       "4 -2.387467 -0.036846   Pizza  input5\n",
       "5 -0.790265  3.398816  Cheese  input6"
      ]
     },
     "execution_count": 23,
     "metadata": {},
     "output_type": "execute_result"
    }
   ],
   "source": [
    "data = {\n",
    "    'w1': model_linear.inputs.weight.detach()[0].numpy(),\n",
    "    'w2': model_linear.inputs.weight.detach()[1].numpy(),\n",
    "    'token': ['I', 'You', 'Like', 'Hate', 'Pizza', 'Cheese'],\n",
    "    'input': ['input1', 'input2', 'input3', 'input4', 'input5', 'input6']\n",
    "}\n",
    "df = pd.DataFrame(data)\n",
    "df"
   ]
  },
  {
   "cell_type": "code",
   "execution_count": 24,
   "id": "8e3cad46-1b73-4056-ac6a-af4a3e9db698",
   "metadata": {},
   "outputs": [
    {
     "data": {
      "image/png": "[encoded data removed]",
      "text/plain": [
       "<Figure size 640x480 with 1 Axes>"
      ]
     },
     "metadata": {},
     "output_type": "display_data"
    }
   ],
   "source": [
    "sns.scatterplot(data=df, x='w1', y='w2')\n",
    "\n",
    "for i in range(0, 6):\n",
    "    plt.text(df.w1[i]+.01, df.w2[i], df.token[i],\n",
    "             horizontalalignment='left', \n",
    "             size='medium',\n",
    "             color='black',\n",
    "             weight='semibold')\n",
    "plt.show()"
   ]
  },
  {
   "cell_type": "code",
   "execution_count": 27,
   "id": "5867cc30-f0ef-4bd1-a2a8-9cf062461f18",
   "metadata": {},
   "outputs": [
    {
     "name": "stdout",
     "output_type": "stream",
     "text": [
      "tensor([[0., 0., 1., 0., 0., 0.]], grad_fn=<RoundBackward1>)\n",
      "tensor([[0., 0., 0., 1., 0., 0.]], grad_fn=<RoundBackward1>)\n",
      "tensor([[0., 0., 0., 0., 1., 0.]], grad_fn=<RoundBackward1>)\n",
      "tensor([[0., 0., 0., 0., 0., 1.]], grad_fn=<RoundBackward1>)\n",
      "tensor([[0., 0., 0., 0., 1., 0.]], grad_fn=<RoundBackward1>)\n",
      "tensor([[0., 0., 0., 0., 0., 1.]], grad_fn=<RoundBackward1>)\n"
     ]
    }
   ],
   "source": [
    "softmax = nn.Softmax(dim=1)\n",
    "\n",
    "print(torch.round(softmax(model_linear(torch.tensor([[1., 0., 0., 0., 0., 0.]]))),\n",
    "                 decimals=2))\n",
    "\n",
    "print(torch.round(softmax(model_linear(torch.tensor([[0., 1., 0., 0., 0., 0.]]))),\n",
    "                 decimals=2))\n",
    "\n",
    "print(torch.round(softmax(model_linear(torch.tensor([[0., 0., 1., 0., 0., 0.]]))),\n",
    "                 decimals=2))\n",
    "\n",
    "print(torch.round(softmax(model_linear(torch.tensor([[0., 0., 0., 1., 0., 0.]]))),\n",
    "                 decimals=2))\n",
    "\n",
    "print(torch.round(softmax(model_linear(torch.tensor([[0., 0., 0., 0., 1., 0.]]))),\n",
    "                 decimals=2))\n",
    "\n",
    "print(torch.round(softmax(model_linear(torch.tensor([[0., 0., 0., 0., 0., 1.]]))),\n",
    "                 decimals=2))"
   ]
  },
  {
   "cell_type": "code",
   "execution_count": 28,
   "id": "c6c900b8-7a38-4025-8a46-1cca6b9149bc",
   "metadata": {},
   "outputs": [
    {
     "data": {
      "text/plain": [
       "Parameter containing:\n",
       "tensor([[ 2.2260,  2.8348, -2.4168, -0.7741, -2.3875, -0.7903],\n",
       "        [-2.1421,  1.8198, -0.0075,  3.3475, -0.0368,  3.3988]],\n",
       "       requires_grad=True)"
      ]
     },
     "execution_count": 28,
     "metadata": {},
     "output_type": "execute_result"
    }
   ],
   "source": [
    "model_linear.inputs.weight"
   ]
  },
  {
   "cell_type": "code",
   "execution_count": 29,
   "id": "94590a64-bca0-4876-98b2-2566e4d43318",
   "metadata": {},
   "outputs": [],
   "source": [
    "word_embeddings = nn.Embedding.from_pretrained(model_linear.inputs.weight.T)"
   ]
  },
  {
   "cell_type": "code",
   "execution_count": 30,
   "id": "dc0d4ef6-25b8-49b0-b3d0-326e5f20fbe4",
   "metadata": {},
   "outputs": [
    {
     "data": {
      "text/plain": [
       "Parameter containing:\n",
       "tensor([[ 2.2260, -2.1421],\n",
       "        [ 2.8348,  1.8198],\n",
       "        [-2.4168, -0.0075],\n",
       "        [-0.7741,  3.3475],\n",
       "        [-2.3875, -0.0368],\n",
       "        [-0.7903,  3.3988]])"
      ]
     },
     "execution_count": 30,
     "metadata": {},
     "output_type": "execute_result"
    }
   ],
   "source": [
    "word_embeddings.weight"
   ]
  },
  {
   "cell_type": "code",
   "execution_count": 32,
   "id": "b7f0c644-0f83-42b3-aa83-2c295a763415",
   "metadata": {},
   "outputs": [
    {
     "data": {
      "text/plain": [
       "tensor([ 2.2260, -2.1421])"
      ]
     },
     "execution_count": 32,
     "metadata": {},
     "output_type": "execute_result"
    }
   ],
   "source": [
    "word_embeddings(torch.tensor(0))"
   ]
  },
  {
   "cell_type": "code",
   "execution_count": 33,
   "id": "5ae3f5b7-7a10-4cc5-90a5-ad99fb996c6d",
   "metadata": {},
   "outputs": [],
   "source": [
    "vocab = {'I': 0,\n",
    "         'You': 1,\n",
    "         'Like': 2, \n",
    "         'Hate': 3,\n",
    "         'Pizza': 4,\n",
    "         'Cheese': 5}"
   ]
  },
  {
   "cell_type": "code",
   "execution_count": 34,
   "id": "0660da33-477e-4f79-a42d-09844163f5ab",
   "metadata": {},
   "outputs": [
    {
     "data": {
      "text/plain": [
       "tensor([ 2.2260, -2.1421])"
      ]
     },
     "execution_count": 34,
     "metadata": {},
     "output_type": "execute_result"
    }
   ],
   "source": [
    "word_embeddings(torch.tensor(vocab['I']))"
   ]
  },
  {
   "cell_type": "code",
   "execution_count": 35,
   "id": "c4739994-e8d5-41bc-bf62-178e9b8d9bef",
   "metadata": {},
   "outputs": [
    {
     "data": {
      "text/plain": [
       "tensor([2.8348, 1.8198])"
      ]
     },
     "execution_count": 35,
     "metadata": {},
     "output_type": "execute_result"
    }
   ],
   "source": [
    "word_embeddings(torch.tensor(vocab['You']))"
   ]
  },
  {
   "cell_type": "code",
   "execution_count": null,
   "id": "a12dfe28-eb81-4816-83dd-5b4141743226",
   "metadata": {},
   "outputs": [],
   "source": []
  }
 ],
 "metadata": {
  "kernelspec": {
   "display_name": "Python 3 (ipykernel)",
   "language": "python",
   "name": "python3"
  },
  "language_info": {
   "codemirror_mode": {
    "name": "ipython",
    "version": 3
   },
   "file_extension": ".py",
   "mimetype": "text/x-python",
   "name": "python",
   "nbconvert_exporter": "python",
   "pygments_lexer": "ipython3",
   "version": "3.10.7"
  }
 },
 "nbformat": 4,
 "nbformat_minor": 5
}
